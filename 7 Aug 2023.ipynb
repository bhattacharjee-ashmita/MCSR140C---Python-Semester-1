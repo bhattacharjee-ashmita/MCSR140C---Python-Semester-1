{
 "cells": [
  {
   "cell_type": "code",
   "execution_count": 1,
   "id": "d6e93c16",
   "metadata": {},
   "outputs": [],
   "source": [
    "# Test prog\n"
   ]
  },
  {
   "cell_type": "code",
   "execution_count": 2,
   "id": "b6693210",
   "metadata": {},
   "outputs": [
    {
     "data": {
      "text/plain": [
       "' this is\\na comment\\nat SXUK\\n'"
      ]
     },
     "execution_count": 2,
     "metadata": {},
     "output_type": "execute_result"
    }
   ],
   "source": [
    "''' this is\n",
    "a comment\n",
    "at SXUK\n",
    "'''"
   ]
  },
  {
   "cell_type": "code",
   "execution_count": 3,
   "id": "44bbdec7",
   "metadata": {},
   "outputs": [
    {
     "name": "stdout",
     "output_type": "stream",
     "text": [
      "Welcome\n"
     ]
    }
   ],
   "source": [
    "print(\"Welcome\")"
   ]
  },
  {
   "cell_type": "code",
   "execution_count": 5,
   "id": "0b5f4283",
   "metadata": {},
   "outputs": [
    {
     "name": "stdout",
     "output_type": "stream",
     "text": [
      "Welcome to python\n"
     ]
    }
   ],
   "source": [
    "print('Welcome to python');"
   ]
  },
  {
   "cell_type": "code",
   "execution_count": 6,
   "id": "d49d47cf",
   "metadata": {},
   "outputs": [
    {
     "name": "stdout",
     "output_type": "stream",
     "text": [
      "Don't get panicked\n"
     ]
    }
   ],
   "source": [
    "print(\"Don't get panicked\")"
   ]
  },
  {
   "cell_type": "code",
   "execution_count": 7,
   "id": "a1ee73f0",
   "metadata": {},
   "outputs": [
    {
     "name": "stdout",
     "output_type": "stream",
     "text": [
      "10\n"
     ]
    }
   ],
   "source": [
    "x=10\n",
    "print(x)"
   ]
  },
  {
   "cell_type": "code",
   "execution_count": 8,
   "id": "5d3f9391",
   "metadata": {},
   "outputs": [
    {
     "data": {
      "text/plain": [
       "int"
      ]
     },
     "execution_count": 8,
     "metadata": {},
     "output_type": "execute_result"
    }
   ],
   "source": [
    "type(x)"
   ]
  },
  {
   "cell_type": "code",
   "execution_count": 9,
   "id": "bcaccfab",
   "metadata": {},
   "outputs": [
    {
     "data": {
      "text/plain": [
       "str"
      ]
     },
     "execution_count": 9,
     "metadata": {},
     "output_type": "execute_result"
    }
   ],
   "source": [
    "x=\"Hello\"\n",
    "type(x)"
   ]
  },
  {
   "cell_type": "code",
   "execution_count": 10,
   "id": "110d9a4b",
   "metadata": {},
   "outputs": [
    {
     "data": {
      "text/plain": [
       "float"
      ]
     },
     "execution_count": 10,
     "metadata": {},
     "output_type": "execute_result"
    }
   ],
   "source": [
    "x=100.55\n",
    "type(x)"
   ]
  },
  {
   "cell_type": "code",
   "execution_count": 11,
   "id": "3e8b307e",
   "metadata": {},
   "outputs": [
    {
     "name": "stdout",
     "output_type": "stream",
     "text": [
      "90\n"
     ]
    }
   ],
   "source": [
    "x=90.55\n",
    "y=int(x)\n",
    "print(y)          # Output shows 90\t\n",
    "\n"
   ]
  },
  {
   "cell_type": "code",
   "execution_count": 12,
   "id": "dcd6652e",
   "metadata": {},
   "outputs": [
    {
     "name": "stdout",
     "output_type": "stream",
     "text": [
      "False\n"
     ]
    }
   ],
   "source": [
    "z = 10 > 15\n",
    "print(z)"
   ]
  },
  {
   "cell_type": "code",
   "execution_count": 13,
   "id": "73eb6f90",
   "metadata": {},
   "outputs": [
    {
     "data": {
      "text/plain": [
       "bool"
      ]
     },
     "execution_count": 13,
     "metadata": {},
     "output_type": "execute_result"
    }
   ],
   "source": [
    "type(z)"
   ]
  },
  {
   "cell_type": "code",
   "execution_count": 14,
   "id": "94a4f1b8",
   "metadata": {},
   "outputs": [
    {
     "name": "stdout",
     "output_type": "stream",
     "text": [
      "True\n"
     ]
    }
   ],
   "source": [
    "z = 10 > 3\n",
    "print(z)"
   ]
  },
  {
   "cell_type": "code",
   "execution_count": 15,
   "id": "d05e25af",
   "metadata": {},
   "outputs": [
    {
     "data": {
      "text/plain": [
       "90.55"
      ]
     },
     "execution_count": 15,
     "metadata": {},
     "output_type": "execute_result"
    }
   ],
   "source": [
    "x"
   ]
  },
  {
   "cell_type": "code",
   "execution_count": 16,
   "id": "6c5edadf",
   "metadata": {},
   "outputs": [
    {
     "data": {
      "text/plain": [
       "90"
      ]
     },
     "execution_count": 16,
     "metadata": {},
     "output_type": "execute_result"
    }
   ],
   "source": [
    "y"
   ]
  },
  {
   "cell_type": "code",
   "execution_count": 17,
   "id": "abeb4cfb",
   "metadata": {},
   "outputs": [
    {
     "data": {
      "text/plain": [
       "90"
      ]
     },
     "execution_count": 17,
     "metadata": {},
     "output_type": "execute_result"
    }
   ],
   "source": [
    "x\n",
    "y"
   ]
  },
  {
   "cell_type": "code",
   "execution_count": 18,
   "id": "9aaa4ca2",
   "metadata": {},
   "outputs": [
    {
     "name": "stdout",
     "output_type": "stream",
     "text": [
      "90.55\n",
      "90\n"
     ]
    }
   ],
   "source": [
    "print(x)\n",
    "print(y)"
   ]
  },
  {
   "cell_type": "code",
   "execution_count": 19,
   "id": "f3caf0ad",
   "metadata": {},
   "outputs": [
    {
     "name": "stdout",
     "output_type": "stream",
     "text": [
      "90.55 90\n"
     ]
    }
   ],
   "source": [
    "print(x, y)"
   ]
  },
  {
   "cell_type": "code",
   "execution_count": 20,
   "id": "2d39d4d2",
   "metadata": {},
   "outputs": [
    {
     "name": "stdout",
     "output_type": "stream",
     "text": [
      "90.55 python\n"
     ]
    }
   ],
   "source": [
    "x=90.55\n",
    "X=\"python\"   \n",
    "print(x,X)      #  Output shows 90.55 python\n"
   ]
  },
  {
   "cell_type": "code",
   "execution_count": 21,
   "id": "1bbaecc9",
   "metadata": {},
   "outputs": [
    {
     "name": "stdout",
     "output_type": "stream",
     "text": [
      "None\n"
     ]
    }
   ],
   "source": [
    "a = None\n",
    "print(a)"
   ]
  },
  {
   "cell_type": "code",
   "execution_count": 22,
   "id": "f57b01b8",
   "metadata": {},
   "outputs": [
    {
     "data": {
      "text/plain": [
       "bool"
      ]
     },
     "execution_count": 22,
     "metadata": {},
     "output_type": "execute_result"
    }
   ],
   "source": [
    "c = False\n",
    "type(c)"
   ]
  },
  {
   "cell_type": "code",
   "execution_count": 23,
   "id": "a56396b7",
   "metadata": {},
   "outputs": [
    {
     "name": "stdout",
     "output_type": "stream",
     "text": [
      "hello world\n"
     ]
    }
   ],
   "source": [
    "s1=\"hello\"\n",
    "s2=\"world\"\n",
    "s3=s1 + \" \" + s2\n",
    "print(s3)    # Output shows 'hello world'\n"
   ]
  },
  {
   "cell_type": "code",
   "execution_count": 26,
   "id": "6c45d8d7",
   "metadata": {},
   "outputs": [
    {
     "name": "stdout",
     "output_type": "stream",
     "text": [
      "Sanjay is 21 years old\n"
     ]
    }
   ],
   "source": [
    "name = 'Sanjay'\n",
    "age = 21\n",
    "str1 = name + ' is ' + str(age) + ' years old'\n",
    "print(str1)"
   ]
  },
  {
   "cell_type": "code",
   "execution_count": 28,
   "id": "834b2382",
   "metadata": {},
   "outputs": [
    {
     "name": "stdout",
     "output_type": "stream",
     "text": [
      "<class 'int'> <class 'float'> <class 'str'> <class 'NoneType'> <class 'bool'>\n"
     ]
    }
   ],
   "source": [
    "a = 10\n",
    "b = 12.56\n",
    "c = 'Python and Data Science'\n",
    "d = None\n",
    "e = a > 100\n",
    "print(type(a), type(b), type(c), type(d), type(e)) \n",
    "\n"
   ]
  },
  {
   "cell_type": "code",
   "execution_count": 32,
   "id": "64131608",
   "metadata": {},
   "outputs": [
    {
     "name": "stdout",
     "output_type": "stream",
     "text": [
      "5 4\n",
      "4 5\n"
     ]
    }
   ],
   "source": [
    "a, b = 5, 4\n",
    "print(a,b)\t   # Output 5 4\n",
    "# And then swap them without using any multiple lines code\n",
    "a,b = b,a\n",
    "print(a,b)               # Output 4 5\n",
    "\n"
   ]
  },
  {
   "cell_type": "code",
   "execution_count": 33,
   "id": "eae9e3f7",
   "metadata": {},
   "outputs": [
    {
     "name": "stdout",
     "output_type": "stream",
     "text": [
      "What is your age?23\n",
      "23\n",
      "<class 'str'>\n"
     ]
    }
   ],
   "source": [
    "age = input(\"What is your age?\")\n",
    "print(age)\n",
    "print(type(age))\t    # Shows as class ‘str’\n",
    "\n"
   ]
  },
  {
   "cell_type": "code",
   "execution_count": 34,
   "id": "8a86d403",
   "metadata": {},
   "outputs": [
    {
     "name": "stdout",
     "output_type": "stream",
     "text": [
      "What is your age?34\n",
      "34\n",
      "<class 'int'>\n"
     ]
    }
   ],
   "source": [
    "age = int(input(\"What is your age?\"))\n",
    "print(age)\n",
    "print(type(age))\t    # Shows as class ‘str’\n"
   ]
  },
  {
   "cell_type": "code",
   "execution_count": 38,
   "id": "83bdade3",
   "metadata": {},
   "outputs": [
    {
     "name": "stdout",
     "output_type": "stream",
     "text": [
      "I live in city Kolkata and country India\n"
     ]
    }
   ],
   "source": [
    "country = 'India'\n",
    "city = 'Kolkata'\n",
    "print(\"I live in city {0} and country {1}\".format(city, country))"
   ]
  },
  {
   "cell_type": "code",
   "execution_count": 41,
   "id": "61153eb0",
   "metadata": {},
   "outputs": [
    {
     "name": "stdout",
     "output_type": "stream",
     "text": [
      "I live in city Kolkata and country India\n",
      "I live in India and Kolkata\n"
     ]
    }
   ],
   "source": [
    "country = 'India'\n",
    "city = 'Kolkata'\n",
    "print(f\"I live in city {city} and country {country}\") \n",
    "print(f\"I live in {country} and {city}\") "
   ]
  },
  {
   "cell_type": "code",
   "execution_count": 42,
   "id": "dbe758df",
   "metadata": {},
   "outputs": [
    {
     "name": "stdout",
     "output_type": "stream",
     "text": [
      "The values of a is 10 and b is 20\n",
      "The values of b is 20 and a is 10\n"
     ]
    }
   ],
   "source": [
    "      #Program to Demonstrate the Positional Change of Indexes of Arguments\n",
    "      a = 10\n",
    "      b = 20\n",
    "      print(\"The values of a is {0} and b is {1}\".format(a, b))     # variable ‘a’ goes as {0} and ‘b’ as {1}\n",
    "      print(\"The values of b is {1} and a is {0}\".format(a, b))\n"
   ]
  },
  {
   "cell_type": "code",
   "execution_count": 43,
   "id": "118e3010",
   "metadata": {},
   "outputs": [
    {
     "name": "stdout",
     "output_type": "stream",
     "text": [
      "10, 20.55, 30.6780\n"
     ]
    }
   ],
   "source": [
    "a, b,c =10, 20.55, 30.678\n",
    "print('%i, %.2f, %.4f' % (a, b, c))    \n"
   ]
  },
  {
   "cell_type": "code",
   "execution_count": 44,
   "id": "5991034d",
   "metadata": {},
   "outputs": [
    {
     "name": "stdout",
     "output_type": "stream",
     "text": [
      "True\n",
      "False\n"
     ]
    }
   ],
   "source": [
    "x = 'Python'\n",
    "y = 'Python'\n",
    "print(x is y) \t\t\t# Returns True as both them point to same object “Python”\n",
    "print(x is not y)\t\t\t# Returns False as x and y point to same object\n",
    "\n"
   ]
  },
  {
   "cell_type": "code",
   "execution_count": 45,
   "id": "814360f6",
   "metadata": {},
   "outputs": [
    {
     "data": {
      "text/plain": [
       "True"
      ]
     },
     "execution_count": 45,
     "metadata": {},
     "output_type": "execute_result"
    }
   ],
   "source": [
    "z = \"Python is good\"\n",
    "x in z"
   ]
  },
  {
   "cell_type": "code",
   "execution_count": 46,
   "id": "017934b7",
   "metadata": {},
   "outputs": [
    {
     "data": {
      "text/plain": [
       "False"
      ]
     },
     "execution_count": 46,
     "metadata": {},
     "output_type": "execute_result"
    }
   ],
   "source": [
    "z in x"
   ]
  },
  {
   "cell_type": "code",
   "execution_count": 49,
   "id": "0f2fffee",
   "metadata": {},
   "outputs": [
    {
     "name": "stdout",
     "output_type": "stream",
     "text": [
      "11\n",
      "12\n"
     ]
    }
   ],
   "source": [
    "x=10\n",
    "x =  x+ 1\n",
    "print(x)\n",
    "x += 1\n",
    "print(x)"
   ]
  },
  {
   "cell_type": "code",
   "execution_count": 50,
   "id": "1ccc9076",
   "metadata": {},
   "outputs": [
    {
     "data": {
      "text/plain": [
       "66"
      ]
     },
     "execution_count": 50,
     "metadata": {},
     "output_type": "execute_result"
    }
   ],
   "source": [
    "200 // 3"
   ]
  },
  {
   "cell_type": "code",
   "execution_count": 51,
   "id": "f379929a",
   "metadata": {},
   "outputs": [
    {
     "data": {
      "text/plain": [
       "66.66666666666667"
      ]
     },
     "execution_count": 51,
     "metadata": {},
     "output_type": "execute_result"
    }
   ],
   "source": [
    "200 / 3"
   ]
  },
  {
   "cell_type": "code",
   "execution_count": 52,
   "id": "9518db9d",
   "metadata": {},
   "outputs": [
    {
     "data": {
      "text/plain": [
       "2"
      ]
     },
     "execution_count": 52,
     "metadata": {},
     "output_type": "execute_result"
    }
   ],
   "source": [
    "200 % 3"
   ]
  },
  {
   "cell_type": "code",
   "execution_count": 55,
   "id": "fc1bb09d",
   "metadata": {},
   "outputs": [
    {
     "name": "stdout",
     "output_type": "stream",
     "text": [
      "Enter a numberfdgdgd\n"
     ]
    },
    {
     "ename": "ValueError",
     "evalue": "invalid literal for int() with base 10: 'fdgdgd'",
     "output_type": "error",
     "traceback": [
      "\u001b[1;31m---------------------------------------------------------------------------\u001b[0m",
      "\u001b[1;31mValueError\u001b[0m                                Traceback (most recent call last)",
      "Cell \u001b[1;32mIn [55], line 1\u001b[0m\n\u001b[1;32m----> 1\u001b[0m number \u001b[38;5;241m=\u001b[39m \u001b[38;5;28;43mint\u001b[39;49m\u001b[43m(\u001b[49m\u001b[38;5;28;43minput\u001b[39;49m\u001b[43m(\u001b[49m\u001b[38;5;124;43m\"\u001b[39;49m\u001b[38;5;124;43mEnter a number\u001b[39;49m\u001b[38;5;124;43m\"\u001b[39;49m\u001b[43m)\u001b[49m\u001b[43m)\u001b[49m\n\u001b[0;32m      2\u001b[0m \u001b[38;5;28;01mif\u001b[39;00m number \u001b[38;5;241m>\u001b[39m\u001b[38;5;241m=\u001b[39m \u001b[38;5;241m0\u001b[39m:\n\u001b[0;32m      3\u001b[0m    \u001b[38;5;28mprint\u001b[39m(\u001b[38;5;124m\"\u001b[39m\u001b[38;5;124mnumber positive\u001b[39m\u001b[38;5;124m\"\u001b[39m)\n",
      "\u001b[1;31mValueError\u001b[0m: invalid literal for int() with base 10: 'fdgdgd'"
     ]
    }
   ],
   "source": [
    "number = int(input(\"Enter a number\"))\n",
    "if number >= 0:\n",
    "   print(\"number positive\")\n",
    "else:\n",
    "   print('number is negative')\n"
   ]
  },
  {
   "cell_type": "code",
   "execution_count": 57,
   "id": "89b6ff7a",
   "metadata": {},
   "outputs": [
    {
     "name": "stdout",
     "output_type": "stream",
     "text": [
      "Enter a numbersdds\n",
      "Please enter numeric\n"
     ]
    }
   ],
   "source": [
    "try:\n",
    "    number = int(input(\"Enter a number\"))\n",
    "    if number >= 0:\n",
    "       print(\"number positive\")\n",
    "    else:\n",
    "       print('number is negative')\n",
    "except ValueError as err1:\n",
    "    print('Please enter numeric') "
   ]
  },
  {
   "cell_type": "code",
   "execution_count": 58,
   "id": "a41313c6",
   "metadata": {},
   "outputs": [
    {
     "name": "stdout",
     "output_type": "stream",
     "text": [
      "Enter your score.75\n",
      "Your Grade is \"C\" \n"
     ]
    }
   ],
   "source": [
    "score = float(input(\"Enter your score\"))\n",
    "if score < 0 or score > 1:\n",
    "    print('Wrong Input')\n",
    "elif score >= 0.9:\n",
    "\tprint('Your Grade is \"A\" ')\n",
    "elif score >= 0.8:\n",
    "        print('Your Grade is \"B\" ')\n",
    "elif score >= 0.7:\n",
    "        print('Your Grade is \"C\" ')\n",
    "elif score >= 0.6:\n",
    "    print('Your Grade is \"D\" ')\n",
    "else:\n",
    "    print('Your Grade is \"F\" ')\n",
    "    \n"
   ]
  },
  {
   "cell_type": "code",
   "execution_count": 61,
   "id": "99e2dd30",
   "metadata": {},
   "outputs": [
    {
     "name": "stdout",
     "output_type": "stream",
     "text": [
      "Current value of i is 0\n",
      "Current value of i is 1\n",
      "Current value of i is 2\n",
      "Current value of i is 3\n",
      "Current value of i is 4\n",
      "Current value of i is 5\n",
      "Current value of i is 6\n",
      "Current value of i is 7\n",
      "Current value of i is 8\n",
      "Current value of i is 9\n"
     ]
    }
   ],
   "source": [
    "# while loop  \n",
    "i = 0\n",
    "while i < 10:\n",
    "    print(f\"Current value of i is {i}\")\n",
    "    i = i + 1\n"
   ]
  },
  {
   "cell_type": "code",
   "execution_count": 62,
   "id": "15728269",
   "metadata": {},
   "outputs": [
    {
     "name": "stdout",
     "output_type": "stream",
     "text": [
      "Enter a number up to which you want to find the average10\n",
      "The sum is 55\n",
      "The average of 10 natural numbers is 5.5\n"
     ]
    }
   ],
   "source": [
    "number = int(input(\"Enter a number up to which you want to find the average\"))\n",
    "i = 0\n",
    "sum1 = 0\n",
    "count = 0\n",
    "\n",
    "while i < number:\n",
    "         i = i + 1\n",
    "         sum1 = sum1 + i\n",
    "         count = count + 1     # This is the last statement in the while block\n",
    "\n",
    "average = sum1/count\n",
    "print(f'The sum is {sum1}')\n",
    "print(f\"The average of {number} natural numbers is {average}\")\n",
    "\n"
   ]
  },
  {
   "cell_type": "code",
   "execution_count": 63,
   "id": "81fd72b4",
   "metadata": {},
   "outputs": [
    {
     "name": "stdout",
     "output_type": "stream",
     "text": [
      "Enter our capital name :kol\n",
      "Enter our capital name :lll\n",
      "Enter our capital name :delHi\n",
      "Got it\n"
     ]
    }
   ],
   "source": [
    "capital = ' '\n",
    "while capital.upper() != 'DELHI':\n",
    "    capital = input('Enter our capital name :')\n",
    "print('Got it')\n",
    "\n"
   ]
  },
  {
   "cell_type": "code",
   "execution_count": null,
   "id": "c48cc2b0",
   "metadata": {},
   "outputs": [],
   "source": []
  }
 ],
 "metadata": {
  "kernelspec": {
   "display_name": "Python 3 (ipykernel)",
   "language": "python",
   "name": "python3"
  },
  "language_info": {
   "codemirror_mode": {
    "name": "ipython",
    "version": 3
   },
   "file_extension": ".py",
   "mimetype": "text/x-python",
   "name": "python",
   "nbconvert_exporter": "python",
   "pygments_lexer": "ipython3",
   "version": "3.11.1"
  }
 },
 "nbformat": 4,
 "nbformat_minor": 5
}
