{
 "cells": [
  {
   "cell_type": "code",
   "execution_count": 1,
   "id": "e4723b3b",
   "metadata": {},
   "outputs": [
    {
     "name": "stdout",
     "output_type": "stream",
     "text": [
      "1\n",
      "2\n",
      "3\n"
     ]
    }
   ],
   "source": [
    "for i in (1,2,3):\n",
    "    print(i)\t\t# Output 1 2 3 in three lines. And (1,2,3) is called a tuple in Python\n",
    "\t\n"
   ]
  },
  {
   "cell_type": "code",
   "execution_count": 3,
   "id": "5705bd2c",
   "metadata": {},
   "outputs": [
    {
     "name": "stdout",
     "output_type": "stream",
     "text": [
      "2\n",
      "4\n",
      "6\n"
     ]
    }
   ],
   "source": [
    "for i in [1,2,3]:\n",
    "    print(i*2)\t"
   ]
  },
  {
   "cell_type": "code",
   "execution_count": 4,
   "id": "3088d905",
   "metadata": {},
   "outputs": [
    {
     "name": "stdout",
     "output_type": "stream",
     "text": [
      "P\n",
      "y\n",
      "t\n",
      "h\n",
      "o\n",
      "n\n"
     ]
    }
   ],
   "source": [
    "for ch in 'Python':\n",
    "    \t\tprint(ch)\t\t# Prints each character of the string vertically\n",
    "\n"
   ]
  },
  {
   "cell_type": "code",
   "execution_count": 6,
   "id": "09c9b8a7",
   "metadata": {},
   "outputs": [
    {
     "name": "stdout",
     "output_type": "stream",
     "text": [
      "Python"
     ]
    }
   ],
   "source": [
    "for ch in 'Python':\n",
    "    print(ch, end='')\t\t# Prints each character of the string vertically\n",
    "\n"
   ]
  },
  {
   "cell_type": "code",
   "execution_count": 7,
   "id": "2b35a25f",
   "metadata": {},
   "outputs": [
    {
     "data": {
      "text/plain": [
       "range(0, 10)"
      ]
     },
     "execution_count": 7,
     "metadata": {},
     "output_type": "execute_result"
    }
   ],
   "source": [
    "range(10)         "
   ]
  },
  {
   "cell_type": "code",
   "execution_count": 8,
   "id": "27931ab7",
   "metadata": {},
   "outputs": [
    {
     "name": "stdout",
     "output_type": "stream",
     "text": [
      "range(0, 10)\n"
     ]
    }
   ],
   "source": [
    "x = range(10)\n",
    "print(x)"
   ]
  },
  {
   "cell_type": "code",
   "execution_count": 9,
   "id": "f287aee6",
   "metadata": {},
   "outputs": [
    {
     "data": {
      "text/plain": [
       "range"
      ]
     },
     "execution_count": 9,
     "metadata": {},
     "output_type": "execute_result"
    }
   ],
   "source": [
    "type(x)"
   ]
  },
  {
   "cell_type": "code",
   "execution_count": 11,
   "id": "0ef04af9",
   "metadata": {},
   "outputs": [
    {
     "name": "stdout",
     "output_type": "stream",
     "text": [
      "0\n",
      "2\n",
      "4\n",
      "6\n",
      "8\n"
     ]
    }
   ],
   "source": [
    "for i in range(0,10,2):\n",
    "    print(i)"
   ]
  },
  {
   "cell_type": "code",
   "execution_count": 12,
   "id": "652762b8",
   "metadata": {},
   "outputs": [
    {
     "name": "stdout",
     "output_type": "stream",
     "text": [
      "10\n",
      "9\n",
      "8\n",
      "7\n",
      "6\n",
      "5\n",
      "4\n",
      "3\n",
      "2\n",
      "1\n"
     ]
    }
   ],
   "source": [
    "for i in range(10,0,-1):\n",
    "    print(i)"
   ]
  },
  {
   "cell_type": "code",
   "execution_count": 14,
   "id": "a9ddf685",
   "metadata": {},
   "outputs": [
    {
     "name": "stdout",
     "output_type": "stream",
     "text": [
      "2\n",
      "3\n",
      "4\n"
     ]
    }
   ],
   "source": [
    "for i in range(2, 5):            # starts at 2, stops at 4, step is not mentioned it is 1 by default\n",
    "    print(f\"{i}\")\t# Prints 2, 3, 4\n"
   ]
  },
  {
   "cell_type": "code",
   "execution_count": 15,
   "id": "5291a833",
   "metadata": {},
   "outputs": [
    {
     "name": "stdout",
     "output_type": "stream",
     "text": [
      "unix\n",
      "windows\n",
      "linux\n"
     ]
    }
   ],
   "source": [
    "for z in ['unix', 'windows', 'linux']:\n",
    "    print(z)"
   ]
  },
  {
   "cell_type": "code",
   "execution_count": 17,
   "id": "a82603f0",
   "metadata": {},
   "outputs": [
    {
     "name": "stdout",
     "output_type": "stream",
     "text": [
      "2301\n",
      "Amit\n",
      "21\n",
      "8000.5\n"
     ]
    }
   ],
   "source": [
    "for z in [2301, 'Amit', 21, 8000.5] :\n",
    "    print(z)"
   ]
  },
  {
   "cell_type": "code",
   "execution_count": 18,
   "id": "8d4399f6",
   "metadata": {},
   "outputs": [
    {
     "name": "stdout",
     "output_type": "stream",
     "text": [
      "Enter a number20\n",
      "Sum of Even numbers are 90 and Odd numbers are 100\n"
     ]
    }
   ],
   "source": [
    "number = int(input(\"Enter a number\"))\n",
    "even = 0\n",
    "odd = 0\n",
    "for i in range(number):\n",
    "    if i % 2 == 0:\n",
    "       even = even + i\n",
    "    else:\n",
    "       odd = odd + i\n",
    "\n",
    "print(f\"Sum of Even numbers are {even} and Odd numbers are {odd}\")\n"
   ]
  },
  {
   "cell_type": "code",
   "execution_count": 19,
   "id": "be661154",
   "metadata": {},
   "outputs": [
    {
     "name": "stdout",
     "output_type": "stream",
     "text": [
      "Enter a number6\n",
      "The factorial of number 6 is 720\n"
     ]
    }
   ],
   "source": [
    "number = int(input('Enter a number'))\n",
    "factorial = 1\n",
    "if number < 0:\n",
    "   print(\"Factorial doesn't exist for negative numbers\")\n",
    "elif number == 0:\n",
    "   print('The factorial of 0 is 1')\n",
    "else:\n",
    "   for i in range(1, number + 1):\n",
    "       factorial = factorial * i\n",
    "\n",
    "print(f\"The factorial of number {number} is {factorial}\")\n",
    "\n"
   ]
  },
  {
   "cell_type": "code",
   "execution_count": 20,
   "id": "3b800534",
   "metadata": {},
   "outputs": [
    {
     "name": "stdout",
     "output_type": "stream",
     "text": [
      "apple\n"
     ]
    }
   ],
   "source": [
    "#Exit the loop when x is “banana”\n",
    "fruits = [\"apple\", \"banana\", \"cherry\"]\n",
    "for x in fruits:\n",
    "  if x == \"banana\":\n",
    "    break\n",
    "  print(x)\t\t# Prints “apple” only\n",
    "\t\n"
   ]
  },
  {
   "cell_type": "code",
   "execution_count": 21,
   "id": "f6d36b10",
   "metadata": {},
   "outputs": [
    {
     "name": "stdout",
     "output_type": "stream",
     "text": [
      "apple\n",
      "cherry\n"
     ]
    }
   ],
   "source": [
    "# Do not print banana\n",
    "fruits = [\"apple\", \"banana\", \"cherry\"]\n",
    "for x in fruits:\n",
    "     if x == \"banana\":\n",
    "          continue\n",
    "     print(x)    \t\t# Prints “apple” & “cherry”\n",
    "\n"
   ]
  },
  {
   "cell_type": "code",
   "execution_count": 22,
   "id": "a2a65307",
   "metadata": {},
   "outputs": [
    {
     "ename": "ZeroDivisionError",
     "evalue": "division by zero",
     "output_type": "error",
     "traceback": [
      "\u001b[1;31m---------------------------------------------------------------------------\u001b[0m",
      "\u001b[1;31mZeroDivisionError\u001b[0m                         Traceback (most recent call last)",
      "Cell \u001b[1;32mIn [22], line 1\u001b[0m\n\u001b[1;32m----> 1\u001b[0m \u001b[38;5;241m10\u001b[39m \u001b[38;5;241m*\u001b[39m (\u001b[38;5;241;43m1\u001b[39;49m\u001b[38;5;241;43m/\u001b[39;49m\u001b[38;5;241;43m0\u001b[39;49m)\n",
      "\u001b[1;31mZeroDivisionError\u001b[0m: division by zero"
     ]
    }
   ],
   "source": [
    "while True:\n",
    " try:\n",
    "    number = int(input(\"Please enter a number: \"))\n",
    "    print(f\"The number you have entered is {number}\")\n",
    "    break\n",
    " except ValueError:\n",
    "    print(\"Oops! That was no valid number. Try again…\")\n",
    "    \n",
    "\t\n"
   ]
  },
  {
   "cell_type": "code",
   "execution_count": null,
   "id": "9cc6fe77",
   "metadata": {},
   "outputs": [],
   "source": [
    "# Write a Python program which would input two integers a, b from system using input\n",
    "# Find the result of a / b. Check with ZeroDivisionError if b = 0\n",
    "# Check with another exception called ValueError when anyone of a,b is entered as non numeric\n"
   ]
  },
  {
   "cell_type": "code",
   "execution_count": 31,
   "id": "a0e61da9",
   "metadata": {},
   "outputs": [
    {
     "name": "stdout",
     "output_type": "stream",
     "text": [
      "Enter value for x: 10\n",
      "Enter value for y: 0\n",
      "Division by zero!\n",
      "division by zero\n",
      "Executing finally clause\n"
     ]
    }
   ],
   "source": [
    "# Program to Check for ZeroDivisionError Exception\n",
    "# with else, finally\n",
    "try:\n",
    "    x = int(input(\"Enter value for x: \"))\n",
    "    y = int(input(\"Enter value for y: \"))\n",
    "    result = x / y   \n",
    "except ZeroDivisionError as e1:\n",
    "    print(\"Division by zero!\")\n",
    "    print(e1)\n",
    "except ValueError as e:\n",
    "    print('Enter numeric')\n",
    "else:\n",
    "    print(f\"Result is {result}\")\n",
    "finally:\n",
    "    print(\"Executing finally clause\")\n",
    "\n"
   ]
  },
  {
   "cell_type": "code",
   "execution_count": 35,
   "id": "61f145e4",
   "metadata": {},
   "outputs": [
    {
     "name": "stdout",
     "output_type": "stream",
     "text": [
      "Enter numeric >0 :-88\n",
      "Value  must be > 0\n"
     ]
    }
   ],
   "source": [
    "try:\n",
    "    x = int(input('Enter numeric >0 :'))\n",
    "    assert x > 0, \"Value  must be > 0\"\n",
    "    print(x)\n",
    "except AssertionError as e:\n",
    "    print(e)"
   ]
  },
  {
   "cell_type": "code",
   "execution_count": 36,
   "id": "ba37a8f4",
   "metadata": {},
   "outputs": [
    {
     "name": "stdout",
     "output_type": "stream",
     "text": [
      "[2, 4, 6, 8, 10, 12, 14]\n",
      "7\n",
      "2\n"
     ]
    }
   ],
   "source": [
    "mylist = [2 ,4, 6, 8, 10, 12, 14]\n",
    "print(mylist)\t\t\t# Output 2, 4, 6, 8, 10, 12, 14\n",
    "print(len(mylist))\t\t# Prints the count of the items in a list, i.e. 7\n",
    "print(mylist[0])\t\t\t# 1st element of the list, i.e. 2\n",
    "\n"
   ]
  },
  {
   "cell_type": "code",
   "execution_count": 37,
   "id": "db441f2d",
   "metadata": {},
   "outputs": [
    {
     "name": "stdout",
     "output_type": "stream",
     "text": [
      "8\n"
     ]
    }
   ],
   "source": [
    "print(mylist[0]+ mylist[2])"
   ]
  },
  {
   "cell_type": "code",
   "execution_count": 38,
   "id": "1487868e",
   "metadata": {},
   "outputs": [
    {
     "data": {
      "text/plain": [
       "56"
      ]
     },
     "execution_count": 38,
     "metadata": {},
     "output_type": "execute_result"
    }
   ],
   "source": [
    "sum(mylist)"
   ]
  },
  {
   "cell_type": "code",
   "execution_count": 39,
   "id": "e835c4bd",
   "metadata": {},
   "outputs": [
    {
     "data": {
      "text/plain": [
       "list"
      ]
     },
     "execution_count": 39,
     "metadata": {},
     "output_type": "execute_result"
    }
   ],
   "source": [
    "type(mylist)"
   ]
  },
  {
   "cell_type": "code",
   "execution_count": 41,
   "id": "3665d1c0",
   "metadata": {},
   "outputs": [
    {
     "name": "stdout",
     "output_type": "stream",
     "text": [
      "[219101, 'Sanjay', 23, 120000.44]\n"
     ]
    }
   ],
   "source": [
    "empname = [219101, 'Sanjay', 23, 120000.44]\n",
    "print(empname)"
   ]
  },
  {
   "cell_type": "code",
   "execution_count": null,
   "id": "436f44b2",
   "metadata": {},
   "outputs": [],
   "source": []
  }
 ],
 "metadata": {
  "kernelspec": {
   "display_name": "Python 3 (ipykernel)",
   "language": "python",
   "name": "python3"
  },
  "language_info": {
   "codemirror_mode": {
    "name": "ipython",
    "version": 3
   },
   "file_extension": ".py",
   "mimetype": "text/x-python",
   "name": "python",
   "nbconvert_exporter": "python",
   "pygments_lexer": "ipython3",
   "version": "3.11.1"
  }
 },
 "nbformat": 4,
 "nbformat_minor": 5
}
