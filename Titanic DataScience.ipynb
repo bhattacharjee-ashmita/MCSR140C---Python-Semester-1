{
 "cells": [
  {
   "cell_type": "code",
   "execution_count": 3,
   "id": "13a869b0",
   "metadata": {},
   "outputs": [],
   "source": [
    "#Data Set Column Descriptions\n",
    "#pclass: Passenger Class (1 = 1st; 2 = 2nd; 3 = 3rd)\n",
    "#survived: Survival (0 = No; 1 = Yes)\n",
    "#name: Name\n",
    "#sex: Sex\n",
    "#age: Age\n",
    "#sibsp: Number of siblings/spouses aboard\n",
    "#parch: Number of parents/children aboard\n",
    "#ticket : ticket no\n",
    "#embarked: Port of embarkation (C = Cherbourg; Q = Queenstown; S = Southampton)\n"
   ]
  },
  {
   "cell_type": "code",
   "execution_count": 2,
   "id": "eeaa1391",
   "metadata": {},
   "outputs": [
    {
     "name": "stdout",
     "output_type": "stream",
     "text": [
      "   pclass  survived                                             name     sex      age  sibsp  parch  ticket embarked\n",
      "0       1         1                    Allen, Miss. Elisabeth Walton  female  29.0000      0      0   24160        S\n",
      "1       1         1                   Allison, Master. Hudson Trevor    male   0.9167      1      2  113781        S\n",
      "2       1         0                     Allison, Miss. Helen Loraine  female   2.0000      1      2  113781        S\n",
      "3       1         0             Allison, Mr. Hudson Joshua Creighton    male  30.0000      1      2  113781        S\n",
      "4       1         0  Allison, Mrs. Hudson J C (Bessie Waldo Daniels)  female  25.0000      1      2  113781        S\n"
     ]
    }
   ],
   "source": [
    "import pandas as pd\n",
    "import numpy as np\n",
    "import matplotlib.pyplot as plt \n",
    "\n",
    "#ignore warnings\n",
    "import warnings\n",
    "warnings.filterwarnings('ignore')\n",
    "\n",
    "pd.set_option('display.max_rows', 500)\n",
    "pd.set_option('display.max_columns', 500)\n",
    "pd.set_option('display.width', 1000)\n",
    "\n",
    "titan_df = pd.read_excel('titanic.xls')\n",
    "print(titan_df.head())"
   ]
  },
  {
   "cell_type": "code",
   "execution_count": null,
   "id": "65c50991-0815-43e2-b6ea-f0dd64afd8f6",
   "metadata": {},
   "outputs": [],
   "source": []
  },
  {
   "cell_type": "code",
   "execution_count": 1,
   "id": "13181a65",
   "metadata": {},
   "outputs": [
    {
     "ename": "NameError",
     "evalue": "name 'titan_df' is not defined",
     "output_type": "error",
     "traceback": [
      "\u001b[1;31m---------------------------------------------------------------------------\u001b[0m",
      "\u001b[1;31mNameError\u001b[0m                                 Traceback (most recent call last)",
      "Cell \u001b[1;32mIn [1], line 1\u001b[0m\n\u001b[1;32m----> 1\u001b[0m s \u001b[38;5;241m=\u001b[39m \u001b[43mtitan_df\u001b[49m[\u001b[38;5;124m'\u001b[39m\u001b[38;5;124msex\u001b[39m\u001b[38;5;124m'\u001b[39m]\u001b[38;5;241m.\u001b[39mvalue_counts()\n\u001b[0;32m      2\u001b[0m \u001b[38;5;28mprint\u001b[39m(\u001b[38;5;124m'\u001b[39m\u001b[38;5;124mNo. of Total passengers gender wise :\u001b[39m\u001b[38;5;124m'\u001b[39m)\n\u001b[0;32m      3\u001b[0m \u001b[38;5;28mprint\u001b[39m(s)\n",
      "\u001b[1;31mNameError\u001b[0m: name 'titan_df' is not defined"
     ]
    }
   ],
   "source": [
    "s = titan_df['sex'].value_counts()\n",
    "print('No. of Total passengers gender wise :')\n",
    "print(s)\n"
   ]
  },
  {
   "cell_type": "code",
   "execution_count": 6,
   "id": "aa26b0c4",
   "metadata": {},
   "outputs": [
    {
     "name": "stdout",
     "output_type": "stream",
     "text": [
      "Titan DF status to find missing values:\n",
      "pclass        0\n",
      "survived      0\n",
      "name          0\n",
      "sex           0\n",
      "age         263\n",
      "sibsp         0\n",
      "parch         0\n",
      "ticket        0\n",
      "embarked      2\n",
      "dtype: int64\n",
      "Titan DF info output\n",
      "<class 'pandas.core.frame.DataFrame'>\n",
      "RangeIndex: 1309 entries, 0 to 1308\n",
      "Data columns (total 9 columns):\n",
      " #   Column    Non-Null Count  Dtype  \n",
      "---  ------    --------------  -----  \n",
      " 0   pclass    1309 non-null   int64  \n",
      " 1   survived  1309 non-null   int64  \n",
      " 2   name      1309 non-null   object \n",
      " 3   sex       1309 non-null   object \n",
      " 4   age       1046 non-null   float64\n",
      " 5   sibsp     1309 non-null   int64  \n",
      " 6   parch     1309 non-null   int64  \n",
      " 7   ticket    1309 non-null   object \n",
      " 8   embarked  1307 non-null   object \n",
      "dtypes: float64(1), int64(4), object(4)\n",
      "memory usage: 92.2+ KB\n",
      "None\n",
      "Deleting Missing Data\n",
      "Titan DF info output after deleting missing data\n",
      "pclass      0\n",
      "survived    0\n",
      "name        0\n",
      "sex         0\n",
      "age         0\n",
      "sibsp       0\n",
      "parch       0\n",
      "ticket      0\n",
      "embarked    0\n",
      "dtype: int64\n",
      "<class 'pandas.core.frame.DataFrame'>\n",
      "Int64Index: 1044 entries, 0 to 1308\n",
      "Data columns (total 9 columns):\n",
      " #   Column    Non-Null Count  Dtype  \n",
      "---  ------    --------------  -----  \n",
      " 0   pclass    1044 non-null   int64  \n",
      " 1   survived  1044 non-null   int64  \n",
      " 2   name      1044 non-null   object \n",
      " 3   sex       1044 non-null   object \n",
      " 4   age       1044 non-null   float64\n",
      " 5   sibsp     1044 non-null   int64  \n",
      " 6   parch     1044 non-null   int64  \n",
      " 7   ticket    1044 non-null   object \n",
      " 8   embarked  1044 non-null   object \n",
      "dtypes: float64(1), int64(4), object(4)\n",
      "memory usage: 81.6+ KB\n",
      "None\n"
     ]
    }
   ],
   "source": [
    "# Data Wrangling\n",
    "print('Titan DF status to find missing values:')\n",
    "print(titan_df.isnull().sum())\n",
    "print('Titan DF info output')\n",
    "print(titan_df.info())\n",
    "print('Deleting Missing Data')\n",
    "titan_df = titan_df.dropna(axis = 0, how ='any')\n",
    "print('Titan DF info output after deleting missing data')\n",
    "print(titan_df.isnull().sum())\n",
    "print(titan_df.info())\n"
   ]
  },
  {
   "cell_type": "code",
   "execution_count": 7,
   "id": "ae549315",
   "metadata": {},
   "outputs": [
    {
     "name": "stdout",
     "output_type": "stream",
     "text": [
      "Not Survived of Total passengers: 619\n",
      "Survived of Total passengers: 425\n"
     ]
    }
   ],
   "source": [
    "s = titan_df[\"survived\"].value_counts()       # 's' becomes a Pandas Series object\n",
    "print('Not Survived of Total passengers:', s[0])\n",
    "print('Survived of Total passengers:', s[1])\n"
   ]
  },
  {
   "cell_type": "code",
   "execution_count": 8,
   "id": "5d801c25",
   "metadata": {},
   "outputs": [
    {
     "name": "stdout",
     "output_type": "stream",
     "text": [
      "0.592911877394636 0.407088122605364\n",
      "Percentage of Total Non Survival : 59.29\n",
      "Percentage of Total Survival : 40.71\n"
     ]
    }
   ],
   "source": [
    "s= titan_df['survived'].value_counts(normalize = True)\n",
    "print(s[0], s[1])\n",
    "print('Percentage of Total Non Survival : %.2f' % (s[0] * 100))\n",
    "print('Percentage of Total Survival : %.2f'  % (s[1] * 100))            \n"
   ]
  },
  {
   "cell_type": "code",
   "execution_count": 9,
   "id": "00fe1b82",
   "metadata": {},
   "outputs": [
    {
     "name": "stdout",
     "output_type": "stream",
     "text": [
      "Total males not survived : 523\n",
      "Total males survived : 135\n",
      "0    0.794833\n",
      "1    0.205167\n",
      "Name: survived, dtype: float64\n",
      "Percentage of males not survived : 79.48\n",
      "Percentage of males survived : 20.52\n"
     ]
    }
   ],
   "source": [
    "# Number of males survived vs. not-survived\n",
    "s = titan_df['survived'][titan_df['sex'] == 'male'].value_counts()\n",
    "print('Total males not survived :', s[0])\n",
    "print('Total males survived :', s[1])\n",
    "s = titan_df['survived'][titan_df['sex'] == 'male'].value_counts(normalize = True)\n",
    "print(s)\n",
    "print('Percentage of males not survived : %.2f' % (s[0]*100))\n",
    "print('Percentage of males survived : %.2f' % (s[1]*100))\n"
   ]
  },
  {
   "cell_type": "code",
   "execution_count": 10,
   "id": "c53c0526",
   "metadata": {},
   "outputs": [
    {
     "name": "stdout",
     "output_type": "stream",
     "text": [
      "Total females not survived : 96\n",
      "Total females survived : 290\n",
      "1    0.751295\n",
      "0    0.248705\n",
      "Name: survived, dtype: float64\n",
      "Percentage of females not survived : 24.87\n",
      "Percentage of females survived : 75.13\n"
     ]
    }
   ],
   "source": [
    "# Number of females survived vs. not-survived\n",
    "s = titan_df['survived'][titan_df['sex'] == 'female'].value_counts()\n",
    "print('Total females not survived :', s[0])\n",
    "print('Total females survived :', s[1])\n",
    "s = titan_df['survived'][titan_df['sex'] == 'female'].value_counts(normalize = True)\n",
    "print(s)\n",
    "print('Percentage of females not survived : %.2f' % (s[0]*100))\n",
    "print('Percentage of females survived : %.2f' % (s[1]*100))\n",
    "\n"
   ]
  },
  {
   "cell_type": "code",
   "execution_count": 11,
   "id": "fcde6f18",
   "metadata": {},
   "outputs": [],
   "source": [
    "# Create a feature called 'child'\n",
    "# since it's probable that children were saved first.\n",
    "# We test by creating a new column with a\n",
    "# categorical variable called 'child'.\n",
    "# child = 1 for age < 18 and child = 0 when age >= 18"
   ]
  },
  {
   "cell_type": "code",
   "execution_count": 12,
   "id": "581c10e6",
   "metadata": {},
   "outputs": [
    {
     "name": "stdout",
     "output_type": "stream",
     "text": [
      "1    0.525974\n",
      "0    0.474026\n",
      "Name: survived, dtype: float64\n",
      "Percentage Not Survived under age 18 : 47.40\n",
      "Percentage Survived under age 18 : 52.60\n"
     ]
    }
   ],
   "source": [
    "titan_df[\"child\"] = float('NaN')\n",
    "titan_df['child'][titan_df['age'] < 18] = 1\n",
    "titan_df['child'][titan_df['age'] >= 18] = 0\n",
    "\n",
    "# Print normalized Survival Rates for passengers under 18\n",
    "s = titan_df[\"survived\"][titan_df[\"child\"] == 1].value_counts(normalize = True)\n",
    "print(s)\n",
    "print('Percentage Not Survived under age 18 : %.2f' % (s[0] * 100))\n",
    "print('Percentage Survived under age 18 : %.2f' % (s[1] * 100))"
   ]
  },
  {
   "cell_type": "code",
   "execution_count": 13,
   "id": "fe9248b4",
   "metadata": {},
   "outputs": [
    {
     "name": "stdout",
     "output_type": "stream",
     "text": [
      "0    0.613483\n",
      "1    0.386517\n",
      "Name: survived, dtype: float64\n",
      "Percentage Not Survived for age >= 18 : 61.35\n",
      "Percentage Survived for age >= 18 : 38.65\n"
     ]
    }
   ],
   "source": [
    "# Print normalized Survival Rates for passengers 18 or older (>= 18)\n",
    "s = titan_df[\"survived\"][titan_df[\"child\"] == 0].value_counts(normalize = True)\n",
    "print(s)\n",
    "print('Percentage Not Survived for age >= 18 : %.2f' % (s[0] * 100))\n",
    "print('Percentage Survived for age >= 18 : %.2f' % (s[1] * 100))\n",
    "\n"
   ]
  },
  {
   "cell_type": "code",
   "execution_count": 17,
   "id": "2ba290b3",
   "metadata": {},
   "outputs": [
    {
     "data": {
      "image/png": "[encoded data removed]",
      "text/plain": [
       "<Figure size 432x288 with 1 Axes>"
      ]
     },
     "metadata": {
      "needs_background": "light"
     },
     "output_type": "display_data"
    }
   ],
   "source": [
    "# Now data visualization using matplotlib\n",
    "#---------------------------------------\n",
    "# Breakup of total passengers genderwise\n",
    "titan_df.groupby(['sex']).size().plot(kind='bar')   \n",
    "plt.title('Genderwise Total Passengers')\n",
    "plt.ylabel('No. of passengers')\n",
    "plt.xlabel('Gender-->')\n",
    "plt.tight_layout()\n",
    "plt.show()\n"
   ]
  },
  {
   "cell_type": "code",
   "execution_count": 18,
   "id": "fa680297",
   "metadata": {},
   "outputs": [
    {
     "data": {
      "image/png": "[encoded data removed]",
      "text/plain": [
       "<Figure size 432x288 with 1 Axes>"
      ]
     },
     "metadata": {
      "needs_background": "light"
     },
     "output_type": "display_data"
    }
   ],
   "source": [
    "# Breakup of passengers survival vs. non-survival \n",
    "titan_df.groupby(['survived']).size().plot(kind='bar')\n",
    "plt.title('Passengers Survival vs. Non-survival')\n",
    "plt.ylabel('No. of passengers')\n",
    "plt.xlabel('1-Survived, 0-Not Survived')\n",
    "plt.tight_layout()\n",
    "plt.show()\n"
   ]
  },
  {
   "cell_type": "code",
   "execution_count": 19,
   "id": "d654b995",
   "metadata": {},
   "outputs": [
    {
     "name": "stdout",
     "output_type": "stream",
     "text": [
      "Class wise no.of passengers\n",
      "3    501\n",
      "1    282\n",
      "2    261\n",
      "Name: pclass, dtype: int64\n"
     ]
    },
    {
     "data": {
      "image/png": "[encoded data removed]",
      "text/plain": [
       "<Figure size 432x288 with 1 Axes>"
      ]
     },
     "metadata": {
      "needs_background": "light"
     },
     "output_type": "display_data"
    }
   ],
   "source": [
    "\n",
    "# No. of passengers Class wise \n",
    "print('Class wise no.of passengers')\n",
    "print(titan_df['pclass'].value_counts())\n",
    "titan_df['pclass'].value_counts().plot(kind='bar')\n",
    "plt.title('No. of Passengers Class wise')\n",
    "plt.xlabel('Class -->')\n",
    "plt.ylabel('No. of Passengers-->')\n",
    "plt.tight_layout()\n",
    "plt.show()"
   ]
  },
  {
   "cell_type": "code",
   "execution_count": 20,
   "id": "e9b3063b",
   "metadata": {},
   "outputs": [
    {
     "name": "stdout",
     "output_type": "stream",
     "text": [
      "No. of passengers class wise, gender wise\n",
      "pclass  sex   \n",
      "1       female    131\n",
      "        male      151\n",
      "2       female    103\n",
      "        male      158\n",
      "3       female    152\n",
      "        male      349\n",
      "dtype: int64\n"
     ]
    },
    {
     "data": {
      "image/png": "[encoded data removed]",
      "text/plain": [
       "<Figure size 432x288 with 1 Axes>"
      ]
     },
     "metadata": {
      "needs_background": "light"
     },
     "output_type": "display_data"
    }
   ],
   "source": [
    "# No of passengers class wise, genderwise\n",
    "print('No. of passengers class wise, gender wise')\n",
    "print(titan_df.groupby(['pclass', 'sex']).size())\n",
    "\n",
    "titan_df.groupby(['pclass', 'sex']).size().plot(kind='bar')    #, stacked=True)\n",
    "plt.title('No. of Passengers Classwise, Genderwise')\n",
    "plt.xlabel('Class -->')\n",
    "plt.ylabel('No. of Passengers-->')\n",
    "plt.tight_layout()\n",
    "plt.show()"
   ]
  },
  {
   "cell_type": "code",
   "execution_count": 24,
   "id": "cbb719de",
   "metadata": {},
   "outputs": [
    {
     "data": {
      "text/plain": [
       "<AxesSubplot:xlabel='pclass'>"
      ]
     },
     "execution_count": 24,
     "metadata": {},
     "output_type": "execute_result"
    },
    {
     "data": {
      "image/png": "[encoded data removed]",
      "text/plain": [
       "<Figure size 432x288 with 1 Axes>"
      ]
     },
     "metadata": {
      "needs_background": "light"
     },
     "output_type": "display_data"
    }
   ],
   "source": [
    "titan_df.groupby(['pclass', 'sex']).size().unstack().plot(kind='bar', stacked=True)"
   ]
  },
  {
   "cell_type": "code",
   "execution_count": 25,
   "id": "2db98791",
   "metadata": {},
   "outputs": [
    {
     "name": "stdout",
     "output_type": "stream",
     "text": [
      "Class wise Survival vs. Non-Survival\n",
      "pclass  survived\n",
      "1       0           103\n",
      "        1           179\n",
      "2       0           146\n",
      "        1           115\n",
      "3       0           370\n",
      "        1           131\n",
      "dtype: int64\n"
     ]
    },
    {
     "data": {
      "image/png": "[encoded data removed]",
      "text/plain": [
       "<Figure size 432x288 with 1 Axes>"
      ]
     },
     "metadata": {
      "needs_background": "light"
     },
     "output_type": "display_data"
    }
   ],
   "source": [
    "# Class wise survival vs. non-survival\n",
    "print('Class wise Survival vs. Non-Survival')\n",
    "print(titan_df.groupby(['pclass', 'survived']).size())\n",
    "titan_df.groupby(['pclass', 'survived']).size().unstack().plot(kind='bar', stacked=True)\n",
    "plt.title('Class wise Survival vs. Non-Survival')\n",
    "plt.xlabel('Class -->')\n",
    "plt.ylabel('No. of Passengers')\n",
    "plt.legend(['Died', 'Survived'])\n",
    "plt.tight_layout()\n",
    "plt.show()\n"
   ]
  },
  {
   "cell_type": "code",
   "execution_count": 26,
   "id": "b627ad55",
   "metadata": {},
   "outputs": [
    {
     "name": "stdout",
     "output_type": "stream",
     "text": [
      "Class wise Survival vs. Non Survival of \n",
      "child passengers(age<18)\n",
      "pclass  survived\n",
      "1       0            2\n",
      "        1           13\n",
      "2       0            4\n",
      "        1           29\n",
      "3       0           67\n",
      "        1           39\n",
      "dtype: int64\n"
     ]
    },
    {
     "data": {
      "image/png": "[encoded data removed]",
      "text/plain": [
       "<Figure size 432x288 with 1 Axes>"
      ]
     },
     "metadata": {
      "needs_background": "light"
     },
     "output_type": "display_data"
    }
   ],
   "source": [
    "# Class wise Survival vs. Non-survival of child passengers( age < 18)\n",
    "print('Class wise Survival vs. Non Survival of \\nchild passengers(age<18)') \n",
    "print(titan_df[titan_df.child==1].groupby(['pclass', 'survived']).size())\n",
    "titan_df[titan_df.child==1].groupby(['pclass','survived']).size().unstack().plot(kind='bar', stacked=True)\n",
    "plt.title('Class wise Survival vs. Non Survival of \\nchild passengers(age<18)')\n",
    "plt.tight_layout()\n",
    "plt.legend(['Died','Survived'])\n",
    "plt.xlabel('Class -->')\n",
    "plt.ylabel('Child Passengers-->')\n",
    "plt.show()\n",
    "\n"
   ]
  },
  {
   "cell_type": "code",
   "execution_count": null,
   "id": "75ba6a78",
   "metadata": {},
   "outputs": [],
   "source": []
  }
 ],
 "metadata": {
  "kernelspec": {
   "display_name": "Python 3 (ipykernel)",
   "language": "python",
   "name": "python3"
  },
  "language_info": {
   "codemirror_mode": {
    "name": "ipython",
    "version": 3
   },
   "file_extension": ".py",
   "mimetype": "text/x-python",
   "name": "python",
   "nbconvert_exporter": "python",
   "pygments_lexer": "ipython3",
   "version": "3.11.1"
  }
 },
 "nbformat": 4,
 "nbformat_minor": 5
}
